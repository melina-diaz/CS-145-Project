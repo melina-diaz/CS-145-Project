{
 "cells": [
  {
   "cell_type": "code",
   "execution_count": 13,
   "metadata": {},
   "outputs": [],
   "source": [
    "import pandas as pd #used for working with dataframes—our dataset\n",
    "import numpy as np #used to manipulate arrays\n",
    "import matplotlib.pyplot as plt #for making visuals\n",
    "import seaborn as sns #for making visuals too\n",
    "import json"
   ]
  },
  {
   "cell_type": "code",
   "execution_count": 14,
   "metadata": {},
   "outputs": [
    {
     "name": "stdout",
     "output_type": "stream",
     "text": [
      "<class 'pandas.core.frame.DataFrame'>\n",
      "RangeIndex: 3950 entries, 0 to 3949\n",
      "Data columns (total 11 columns):\n",
      " #   Column               Non-Null Count  Dtype  \n",
      "---  ------               --------------  -----  \n",
      " 0   Unnamed: 0           3950 non-null   int64  \n",
      " 1   Province_State       3950 non-null   object \n",
      " 2   Date                 3950 non-null   object \n",
      " 3   Confirmed            3950 non-null   int64  \n",
      " 4   Deaths               3950 non-null   int64  \n",
      " 5   Recovered            2017 non-null   float64\n",
      " 6   Active               2700 non-null   float64\n",
      " 7   Incident_Rate        3950 non-null   float64\n",
      " 8   Total_Test_Results   3950 non-null   float64\n",
      " 9   Case_Fatality_Ratio  3950 non-null   float64\n",
      " 10  Testing_Rate         3950 non-null   float64\n",
      "dtypes: float64(6), int64(3), object(2)\n",
      "memory usage: 308.7+ KB\n"
     ]
    }
   ],
   "source": [
    "traina=pd.read_csv(r\"C:\\Users\\melinadiaz\\Documents\\GitHub\\train_trendency.csv\")\n",
    "trainb=pd.read_csv(r\"C:\\Users\\melinadiaz\\Documents\\GitHub\\train_vaccine.csv\")\n",
    "sub=pd.read_csv(r\"C:\\Users\\melinadiaz\\Documents\\GitHub\\Submission_Linear.csv\") #meaning submission results\n",
    "traina.info()"
   ]
  },
  {
   "cell_type": "code",
   "execution_count": 15,
   "metadata": {},
   "outputs": [
    {
     "data": {
      "text/plain": [
       "Text(0.5, 1.0, 'Georgia, Deaths')"
      ]
     },
     "execution_count": 15,
     "metadata": {},
     "output_type": "execute_result"
    },
    {
     "data": {
      "image/png": "[encoded data removed]",
      "text/plain": [
       "<Figure size 432x288 with 1 Axes>"
      ]
     },
     "metadata": {
      "needs_background": "light"
     },
     "output_type": "display_data"
    }
   ],
   "source": [
    "sns.lineplot(data=sub[sub[\"Province_State\"]==\"Alabama\"],\n",
    "            x=\"Date\",\n",
    "            y=\"Deaths\",\n",
    "            hue=\"Province_State\")\n",
    "plt.title('Georgia, Deaths', fontsize=15)"
   ]
  },
  {
   "cell_type": "code",
   "execution_count": 16,
   "metadata": {},
   "outputs": [
    {
     "data": {
      "text/html": [
       "<div>\n",
       "<style scoped>\n",
       "    .dataframe tbody tr th:only-of-type {\n",
       "        vertical-align: middle;\n",
       "    }\n",
       "\n",
       "    .dataframe tbody tr th {\n",
       "        vertical-align: top;\n",
       "    }\n",
       "\n",
       "    .dataframe thead th {\n",
       "        text-align: right;\n",
       "    }\n",
       "</style>\n",
       "<table border=\"1\" class=\"dataframe\">\n",
       "  <thead>\n",
       "    <tr style=\"text-align: right;\">\n",
       "      <th></th>\n",
       "      <th>ID</th>\n",
       "      <th>Confirmed</th>\n",
       "      <th>Deaths</th>\n",
       "      <th>Province_State</th>\n",
       "      <th>Date</th>\n",
       "    </tr>\n",
       "  </thead>\n",
       "  <tbody>\n",
       "    <tr>\n",
       "      <th>0</th>\n",
       "      <td>0</td>\n",
       "      <td>515931.6667</td>\n",
       "      <td>10568.06667</td>\n",
       "      <td>Alabama</td>\n",
       "      <td>4/1/2021</td>\n",
       "    </tr>\n",
       "    <tr>\n",
       "      <th>50</th>\n",
       "      <td>50</td>\n",
       "      <td>519673.9758</td>\n",
       "      <td>10669.79394</td>\n",
       "      <td>Alabama</td>\n",
       "      <td>4/2/2021</td>\n",
       "    </tr>\n",
       "    <tr>\n",
       "      <th>100</th>\n",
       "      <td>100</td>\n",
       "      <td>520089.7879</td>\n",
       "      <td>10681.09697</td>\n",
       "      <td>Alabama</td>\n",
       "      <td>4/3/2021</td>\n",
       "    </tr>\n",
       "    <tr>\n",
       "      <th>150</th>\n",
       "      <td>150</td>\n",
       "      <td>520505.6000</td>\n",
       "      <td>10692.40000</td>\n",
       "      <td>Alabama</td>\n",
       "      <td>4/3/2021</td>\n",
       "    </tr>\n",
       "    <tr>\n",
       "      <th>200</th>\n",
       "      <td>200</td>\n",
       "      <td>520921.4121</td>\n",
       "      <td>10703.70303</td>\n",
       "      <td>Alabama</td>\n",
       "      <td>4/4/2021</td>\n",
       "    </tr>\n",
       "    <tr>\n",
       "      <th>250</th>\n",
       "      <td>250</td>\n",
       "      <td>521337.2242</td>\n",
       "      <td>10715.00606</td>\n",
       "      <td>Alabama</td>\n",
       "      <td>4/5/2021</td>\n",
       "    </tr>\n",
       "    <tr>\n",
       "      <th>300</th>\n",
       "      <td>300</td>\n",
       "      <td>521753.0364</td>\n",
       "      <td>10726.30909</td>\n",
       "      <td>Alabama</td>\n",
       "      <td>4/6/2021</td>\n",
       "    </tr>\n",
       "    <tr>\n",
       "      <th>350</th>\n",
       "      <td>350</td>\n",
       "      <td>522168.8485</td>\n",
       "      <td>10737.61212</td>\n",
       "      <td>Alabama</td>\n",
       "      <td>4/7/2021</td>\n",
       "    </tr>\n",
       "    <tr>\n",
       "      <th>400</th>\n",
       "      <td>400</td>\n",
       "      <td>522584.6606</td>\n",
       "      <td>10748.91515</td>\n",
       "      <td>Alabama</td>\n",
       "      <td>4/8/2021</td>\n",
       "    </tr>\n",
       "    <tr>\n",
       "      <th>450</th>\n",
       "      <td>450</td>\n",
       "      <td>523000.4727</td>\n",
       "      <td>10760.21818</td>\n",
       "      <td>Alabama</td>\n",
       "      <td>4/9/2021</td>\n",
       "    </tr>\n",
       "    <tr>\n",
       "      <th>500</th>\n",
       "      <td>500</td>\n",
       "      <td>523416.2848</td>\n",
       "      <td>10771.52121</td>\n",
       "      <td>Alabama</td>\n",
       "      <td>4/10/2021</td>\n",
       "    </tr>\n",
       "    <tr>\n",
       "      <th>550</th>\n",
       "      <td>550</td>\n",
       "      <td>516347.4788</td>\n",
       "      <td>10579.36970</td>\n",
       "      <td>Alabama</td>\n",
       "      <td>4/11/2021</td>\n",
       "    </tr>\n",
       "    <tr>\n",
       "      <th>600</th>\n",
       "      <td>600</td>\n",
       "      <td>523832.0970</td>\n",
       "      <td>10782.82424</td>\n",
       "      <td>Alabama</td>\n",
       "      <td>4/12/2021</td>\n",
       "    </tr>\n",
       "    <tr>\n",
       "      <th>650</th>\n",
       "      <td>650</td>\n",
       "      <td>524247.9091</td>\n",
       "      <td>10794.12727</td>\n",
       "      <td>Alabama</td>\n",
       "      <td>4/13/2021</td>\n",
       "    </tr>\n",
       "    <tr>\n",
       "      <th>700</th>\n",
       "      <td>700</td>\n",
       "      <td>524663.7212</td>\n",
       "      <td>10805.43030</td>\n",
       "      <td>Alabama</td>\n",
       "      <td>4/14/2021</td>\n",
       "    </tr>\n",
       "    <tr>\n",
       "      <th>750</th>\n",
       "      <td>750</td>\n",
       "      <td>525079.5333</td>\n",
       "      <td>10816.73333</td>\n",
       "      <td>Alabama</td>\n",
       "      <td>4/15/2021</td>\n",
       "    </tr>\n",
       "    <tr>\n",
       "      <th>800</th>\n",
       "      <td>800</td>\n",
       "      <td>525495.3455</td>\n",
       "      <td>10828.03636</td>\n",
       "      <td>Alabama</td>\n",
       "      <td>4/16/2021</td>\n",
       "    </tr>\n",
       "    <tr>\n",
       "      <th>850</th>\n",
       "      <td>850</td>\n",
       "      <td>525911.1576</td>\n",
       "      <td>10839.33939</td>\n",
       "      <td>Alabama</td>\n",
       "      <td>4/17/2021</td>\n",
       "    </tr>\n",
       "    <tr>\n",
       "      <th>900</th>\n",
       "      <td>900</td>\n",
       "      <td>526326.9697</td>\n",
       "      <td>10850.64242</td>\n",
       "      <td>Alabama</td>\n",
       "      <td>4/18/2021</td>\n",
       "    </tr>\n",
       "    <tr>\n",
       "      <th>950</th>\n",
       "      <td>950</td>\n",
       "      <td>526742.7818</td>\n",
       "      <td>10861.94545</td>\n",
       "      <td>Alabama</td>\n",
       "      <td>4/19/2021</td>\n",
       "    </tr>\n",
       "    <tr>\n",
       "      <th>1000</th>\n",
       "      <td>1000</td>\n",
       "      <td>527158.5939</td>\n",
       "      <td>10873.24848</td>\n",
       "      <td>Alabama</td>\n",
       "      <td>4/20/2021</td>\n",
       "    </tr>\n",
       "    <tr>\n",
       "      <th>1050</th>\n",
       "      <td>1050</td>\n",
       "      <td>527574.4061</td>\n",
       "      <td>10884.55152</td>\n",
       "      <td>Alabama</td>\n",
       "      <td>4/21/2021</td>\n",
       "    </tr>\n",
       "    <tr>\n",
       "      <th>1100</th>\n",
       "      <td>1100</td>\n",
       "      <td>516763.2909</td>\n",
       "      <td>10590.67273</td>\n",
       "      <td>Alabama</td>\n",
       "      <td>4/22/2021</td>\n",
       "    </tr>\n",
       "    <tr>\n",
       "      <th>1150</th>\n",
       "      <td>1150</td>\n",
       "      <td>527990.2182</td>\n",
       "      <td>10895.85455</td>\n",
       "      <td>Alabama</td>\n",
       "      <td>4/23/2021</td>\n",
       "    </tr>\n",
       "    <tr>\n",
       "      <th>1200</th>\n",
       "      <td>1200</td>\n",
       "      <td>517179.1030</td>\n",
       "      <td>10601.97576</td>\n",
       "      <td>Alabama</td>\n",
       "      <td>4/24/2021</td>\n",
       "    </tr>\n",
       "    <tr>\n",
       "      <th>1250</th>\n",
       "      <td>1250</td>\n",
       "      <td>517594.9152</td>\n",
       "      <td>10613.27879</td>\n",
       "      <td>Alabama</td>\n",
       "      <td>4/25/2021</td>\n",
       "    </tr>\n",
       "    <tr>\n",
       "      <th>1300</th>\n",
       "      <td>1300</td>\n",
       "      <td>518010.7273</td>\n",
       "      <td>10624.58182</td>\n",
       "      <td>Alabama</td>\n",
       "      <td>4/26/2021</td>\n",
       "    </tr>\n",
       "    <tr>\n",
       "      <th>1350</th>\n",
       "      <td>1350</td>\n",
       "      <td>518426.5394</td>\n",
       "      <td>10635.88485</td>\n",
       "      <td>Alabama</td>\n",
       "      <td>4/27/2021</td>\n",
       "    </tr>\n",
       "    <tr>\n",
       "      <th>1400</th>\n",
       "      <td>1400</td>\n",
       "      <td>518842.3515</td>\n",
       "      <td>10647.18788</td>\n",
       "      <td>Alabama</td>\n",
       "      <td>4/28/2021</td>\n",
       "    </tr>\n",
       "    <tr>\n",
       "      <th>1450</th>\n",
       "      <td>1450</td>\n",
       "      <td>519258.1636</td>\n",
       "      <td>10658.49091</td>\n",
       "      <td>Alabama</td>\n",
       "      <td>4/29/2021</td>\n",
       "    </tr>\n",
       "  </tbody>\n",
       "</table>\n",
       "</div>"
      ],
      "text/plain": [
       "        ID    Confirmed       Deaths Province_State       Date\n",
       "0        0  515931.6667  10568.06667        Alabama   4/1/2021\n",
       "50      50  519673.9758  10669.79394        Alabama   4/2/2021\n",
       "100    100  520089.7879  10681.09697        Alabama   4/3/2021\n",
       "150    150  520505.6000  10692.40000        Alabama   4/3/2021\n",
       "200    200  520921.4121  10703.70303        Alabama   4/4/2021\n",
       "250    250  521337.2242  10715.00606        Alabama   4/5/2021\n",
       "300    300  521753.0364  10726.30909        Alabama   4/6/2021\n",
       "350    350  522168.8485  10737.61212        Alabama   4/7/2021\n",
       "400    400  522584.6606  10748.91515        Alabama   4/8/2021\n",
       "450    450  523000.4727  10760.21818        Alabama   4/9/2021\n",
       "500    500  523416.2848  10771.52121        Alabama  4/10/2021\n",
       "550    550  516347.4788  10579.36970        Alabama  4/11/2021\n",
       "600    600  523832.0970  10782.82424        Alabama  4/12/2021\n",
       "650    650  524247.9091  10794.12727        Alabama  4/13/2021\n",
       "700    700  524663.7212  10805.43030        Alabama  4/14/2021\n",
       "750    750  525079.5333  10816.73333        Alabama  4/15/2021\n",
       "800    800  525495.3455  10828.03636        Alabama  4/16/2021\n",
       "850    850  525911.1576  10839.33939        Alabama  4/17/2021\n",
       "900    900  526326.9697  10850.64242        Alabama  4/18/2021\n",
       "950    950  526742.7818  10861.94545        Alabama  4/19/2021\n",
       "1000  1000  527158.5939  10873.24848        Alabama  4/20/2021\n",
       "1050  1050  527574.4061  10884.55152        Alabama  4/21/2021\n",
       "1100  1100  516763.2909  10590.67273        Alabama  4/22/2021\n",
       "1150  1150  527990.2182  10895.85455        Alabama  4/23/2021\n",
       "1200  1200  517179.1030  10601.97576        Alabama  4/24/2021\n",
       "1250  1250  517594.9152  10613.27879        Alabama  4/25/2021\n",
       "1300  1300  518010.7273  10624.58182        Alabama  4/26/2021\n",
       "1350  1350  518426.5394  10635.88485        Alabama  4/27/2021\n",
       "1400  1400  518842.3515  10647.18788        Alabama  4/28/2021\n",
       "1450  1450  519258.1636  10658.49091        Alabama  4/29/2021"
      ]
     },
     "execution_count": 16,
     "metadata": {},
     "output_type": "execute_result"
    }
   ],
   "source": [
    "sub[sub[\"Province_State\"]==\"Alabama\"]"
   ]
  },
  {
   "cell_type": "code",
   "execution_count": 17,
   "metadata": {
    "scrolled": true
   },
   "outputs": [
    {
     "data": {
      "text/html": [
       "<div>\n",
       "<style scoped>\n",
       "    .dataframe tbody tr th:only-of-type {\n",
       "        vertical-align: middle;\n",
       "    }\n",
       "\n",
       "    .dataframe tbody tr th {\n",
       "        vertical-align: top;\n",
       "    }\n",
       "\n",
       "    .dataframe thead th {\n",
       "        text-align: right;\n",
       "    }\n",
       "</style>\n",
       "<table border=\"1\" class=\"dataframe\">\n",
       "  <thead>\n",
       "    <tr style=\"text-align: right;\">\n",
       "      <th></th>\n",
       "      <th>Unnamed: 0</th>\n",
       "      <th>Province_State</th>\n",
       "      <th>Date</th>\n",
       "      <th>Confirmed</th>\n",
       "      <th>Deaths</th>\n",
       "      <th>Recovered</th>\n",
       "      <th>Active</th>\n",
       "      <th>Incident_Rate</th>\n",
       "      <th>Total_Test_Results</th>\n",
       "      <th>Case_Fatality_Ratio</th>\n",
       "      <th>Testing_Rate</th>\n",
       "      <th>Test</th>\n",
       "    </tr>\n",
       "  </thead>\n",
       "  <tbody>\n",
       "    <tr>\n",
       "      <th>0</th>\n",
       "      <td>0</td>\n",
       "      <td>Alabama</td>\n",
       "      <td>2021-01-12</td>\n",
       "      <td>407848</td>\n",
       "      <td>5573</td>\n",
       "      <td>211684.0</td>\n",
       "      <td>190591.0</td>\n",
       "      <td>8318.021857</td>\n",
       "      <td>1981019.0</td>\n",
       "      <td>1.366440</td>\n",
       "      <td>40402.697430</td>\n",
       "      <td>Train</td>\n",
       "    </tr>\n",
       "    <tr>\n",
       "      <th>1</th>\n",
       "      <td>1</td>\n",
       "      <td>Alaska</td>\n",
       "      <td>2021-01-12</td>\n",
       "      <td>50544</td>\n",
       "      <td>225</td>\n",
       "      <td>7165.0</td>\n",
       "      <td>43132.0</td>\n",
       "      <td>6906.205360</td>\n",
       "      <td>1357708.0</td>\n",
       "      <td>0.445351</td>\n",
       "      <td>185594.597735</td>\n",
       "      <td>Train</td>\n",
       "    </tr>\n",
       "    <tr>\n",
       "      <th>2</th>\n",
       "      <td>2</td>\n",
       "      <td>Arizona</td>\n",
       "      <td>2021-01-12</td>\n",
       "      <td>636100</td>\n",
       "      <td>10482</td>\n",
       "      <td>86757.0</td>\n",
       "      <td>538861.0</td>\n",
       "      <td>8739.177523</td>\n",
       "      <td>5742443.0</td>\n",
       "      <td>1.647854</td>\n",
       "      <td>42806.225328</td>\n",
       "      <td>Train</td>\n",
       "    </tr>\n",
       "    <tr>\n",
       "      <th>3</th>\n",
       "      <td>3</td>\n",
       "      <td>Arkansas</td>\n",
       "      <td>2021-01-12</td>\n",
       "      <td>259553</td>\n",
       "      <td>4121</td>\n",
       "      <td>229700.0</td>\n",
       "      <td>25732.0</td>\n",
       "      <td>8600.724235</td>\n",
       "      <td>2208736.0</td>\n",
       "      <td>1.587730</td>\n",
       "      <td>73190.174047</td>\n",
       "      <td>Train</td>\n",
       "    </tr>\n",
       "    <tr>\n",
       "      <th>4</th>\n",
       "      <td>4</td>\n",
       "      <td>California</td>\n",
       "      <td>2021-01-12</td>\n",
       "      <td>2832085</td>\n",
       "      <td>31345</td>\n",
       "      <td>NaN</td>\n",
       "      <td>2773506.0</td>\n",
       "      <td>7098.216165</td>\n",
       "      <td>36508384.0</td>\n",
       "      <td>1.110900</td>\n",
       "      <td>92397.696784</td>\n",
       "      <td>Train</td>\n",
       "    </tr>\n",
       "    <tr>\n",
       "      <th>...</th>\n",
       "      <td>...</td>\n",
       "      <td>...</td>\n",
       "      <td>...</td>\n",
       "      <td>...</td>\n",
       "      <td>...</td>\n",
       "      <td>...</td>\n",
       "      <td>...</td>\n",
       "      <td>...</td>\n",
       "      <td>...</td>\n",
       "      <td>...</td>\n",
       "      <td>...</td>\n",
       "      <td>...</td>\n",
       "    </tr>\n",
       "    <tr>\n",
       "      <th>3945</th>\n",
       "      <td>3945</td>\n",
       "      <td>Virginia</td>\n",
       "      <td>2021-03-31</td>\n",
       "      <td>618976</td>\n",
       "      <td>10252</td>\n",
       "      <td>NaN</td>\n",
       "      <td>NaN</td>\n",
       "      <td>7251.767584</td>\n",
       "      <td>6466133.0</td>\n",
       "      <td>1.656284</td>\n",
       "      <td>75755.592601</td>\n",
       "      <td>Train</td>\n",
       "    </tr>\n",
       "    <tr>\n",
       "      <th>3946</th>\n",
       "      <td>3946</td>\n",
       "      <td>Washington</td>\n",
       "      <td>2021-03-31</td>\n",
       "      <td>364486</td>\n",
       "      <td>5247</td>\n",
       "      <td>NaN</td>\n",
       "      <td>NaN</td>\n",
       "      <td>4786.488792</td>\n",
       "      <td>5890924.0</td>\n",
       "      <td>1.439561</td>\n",
       "      <td>77360.561731</td>\n",
       "      <td>Train</td>\n",
       "    </tr>\n",
       "    <tr>\n",
       "      <th>3947</th>\n",
       "      <td>3947</td>\n",
       "      <td>West Virginia</td>\n",
       "      <td>2021-03-31</td>\n",
       "      <td>141738</td>\n",
       "      <td>2676</td>\n",
       "      <td>NaN</td>\n",
       "      <td>NaN</td>\n",
       "      <td>7908.837835</td>\n",
       "      <td>2468123.0</td>\n",
       "      <td>1.887991</td>\n",
       "      <td>137718.780881</td>\n",
       "      <td>Train</td>\n",
       "    </tr>\n",
       "    <tr>\n",
       "      <th>3948</th>\n",
       "      <td>3948</td>\n",
       "      <td>Wisconsin</td>\n",
       "      <td>2021-03-31</td>\n",
       "      <td>636041</td>\n",
       "      <td>7315</td>\n",
       "      <td>NaN</td>\n",
       "      <td>NaN</td>\n",
       "      <td>10923.970972</td>\n",
       "      <td>7585402.0</td>\n",
       "      <td>1.150083</td>\n",
       "      <td>130278.883367</td>\n",
       "      <td>Train</td>\n",
       "    </tr>\n",
       "    <tr>\n",
       "      <th>3949</th>\n",
       "      <td>3949</td>\n",
       "      <td>Wyoming</td>\n",
       "      <td>2021-03-31</td>\n",
       "      <td>56310</td>\n",
       "      <td>700</td>\n",
       "      <td>NaN</td>\n",
       "      <td>NaN</td>\n",
       "      <td>9729.438333</td>\n",
       "      <td>683766.0</td>\n",
       "      <td>1.243118</td>\n",
       "      <td>118143.475955</td>\n",
       "      <td>Train</td>\n",
       "    </tr>\n",
       "  </tbody>\n",
       "</table>\n",
       "<p>3950 rows × 12 columns</p>\n",
       "</div>"
      ],
      "text/plain": [
       "      Unnamed: 0 Province_State       Date  Confirmed  Deaths  Recovered  \\\n",
       "0              0        Alabama 2021-01-12     407848    5573   211684.0   \n",
       "1              1         Alaska 2021-01-12      50544     225     7165.0   \n",
       "2              2        Arizona 2021-01-12     636100   10482    86757.0   \n",
       "3              3       Arkansas 2021-01-12     259553    4121   229700.0   \n",
       "4              4     California 2021-01-12    2832085   31345        NaN   \n",
       "...          ...            ...        ...        ...     ...        ...   \n",
       "3945        3945       Virginia 2021-03-31     618976   10252        NaN   \n",
       "3946        3946     Washington 2021-03-31     364486    5247        NaN   \n",
       "3947        3947  West Virginia 2021-03-31     141738    2676        NaN   \n",
       "3948        3948      Wisconsin 2021-03-31     636041    7315        NaN   \n",
       "3949        3949        Wyoming 2021-03-31      56310     700        NaN   \n",
       "\n",
       "         Active  Incident_Rate  Total_Test_Results  Case_Fatality_Ratio  \\\n",
       "0      190591.0    8318.021857           1981019.0             1.366440   \n",
       "1       43132.0    6906.205360           1357708.0             0.445351   \n",
       "2      538861.0    8739.177523           5742443.0             1.647854   \n",
       "3       25732.0    8600.724235           2208736.0             1.587730   \n",
       "4     2773506.0    7098.216165          36508384.0             1.110900   \n",
       "...         ...            ...                 ...                  ...   \n",
       "3945        NaN    7251.767584           6466133.0             1.656284   \n",
       "3946        NaN    4786.488792           5890924.0             1.439561   \n",
       "3947        NaN    7908.837835           2468123.0             1.887991   \n",
       "3948        NaN   10923.970972           7585402.0             1.150083   \n",
       "3949        NaN    9729.438333            683766.0             1.243118   \n",
       "\n",
       "       Testing_Rate   Test  \n",
       "0      40402.697430  Train  \n",
       "1     185594.597735  Train  \n",
       "2      42806.225328  Train  \n",
       "3      73190.174047  Train  \n",
       "4      92397.696784  Train  \n",
       "...             ...    ...  \n",
       "3945   75755.592601  Train  \n",
       "3946   77360.561731  Train  \n",
       "3947  137718.780881  Train  \n",
       "3948  130278.883367  Train  \n",
       "3949  118143.475955  Train  \n",
       "\n",
       "[3950 rows x 12 columns]"
      ]
     },
     "execution_count": 17,
     "metadata": {},
     "output_type": "execute_result"
    }
   ],
   "source": [
    "#standardize datatype and label as Training data\n",
    "traina[\"Date\"]=pd.to_datetime(traina[\"Date\"])\n",
    "traina[\"Test\"]=\"Train\"\n",
    "traina"
   ]
  },
  {
   "cell_type": "code",
   "execution_count": 18,
   "metadata": {
    "scrolled": false
   },
   "outputs": [
    {
     "data": {
      "text/html": [
       "<div>\n",
       "<style scoped>\n",
       "    .dataframe tbody tr th:only-of-type {\n",
       "        vertical-align: middle;\n",
       "    }\n",
       "\n",
       "    .dataframe tbody tr th {\n",
       "        vertical-align: top;\n",
       "    }\n",
       "\n",
       "    .dataframe thead th {\n",
       "        text-align: right;\n",
       "    }\n",
       "</style>\n",
       "<table border=\"1\" class=\"dataframe\">\n",
       "  <thead>\n",
       "    <tr style=\"text-align: right;\">\n",
       "      <th></th>\n",
       "      <th>ID</th>\n",
       "      <th>Confirmed</th>\n",
       "      <th>Deaths</th>\n",
       "      <th>Province_State</th>\n",
       "      <th>Date</th>\n",
       "      <th>Test</th>\n",
       "    </tr>\n",
       "  </thead>\n",
       "  <tbody>\n",
       "    <tr>\n",
       "      <th>0</th>\n",
       "      <td>0</td>\n",
       "      <td>5.159317e+05</td>\n",
       "      <td>10568.066670</td>\n",
       "      <td>Alabama</td>\n",
       "      <td>2021-04-01</td>\n",
       "      <td>Guess</td>\n",
       "    </tr>\n",
       "    <tr>\n",
       "      <th>1</th>\n",
       "      <td>1</td>\n",
       "      <td>6.297940e+04</td>\n",
       "      <td>313.800000</td>\n",
       "      <td>Alaska</td>\n",
       "      <td>2021-04-01</td>\n",
       "      <td>Guess</td>\n",
       "    </tr>\n",
       "    <tr>\n",
       "      <th>2</th>\n",
       "      <td>2</td>\n",
       "      <td>8.421711e+05</td>\n",
       "      <td>16998.800000</td>\n",
       "      <td>Arizona</td>\n",
       "      <td>2021-04-01</td>\n",
       "      <td>Guess</td>\n",
       "    </tr>\n",
       "    <tr>\n",
       "      <th>3</th>\n",
       "      <td>3</td>\n",
       "      <td>3.306241e+05</td>\n",
       "      <td>5633.466667</td>\n",
       "      <td>Arkansas</td>\n",
       "      <td>2021-04-01</td>\n",
       "      <td>Guess</td>\n",
       "    </tr>\n",
       "    <tr>\n",
       "      <th>4</th>\n",
       "      <td>4</td>\n",
       "      <td>3.671564e+06</td>\n",
       "      <td>59580.266670</td>\n",
       "      <td>California</td>\n",
       "      <td>2021-04-01</td>\n",
       "      <td>Guess</td>\n",
       "    </tr>\n",
       "    <tr>\n",
       "      <th>...</th>\n",
       "      <td>...</td>\n",
       "      <td>...</td>\n",
       "      <td>...</td>\n",
       "      <td>...</td>\n",
       "      <td>...</td>\n",
       "      <td>...</td>\n",
       "    </tr>\n",
       "    <tr>\n",
       "      <th>1495</th>\n",
       "      <td>1495</td>\n",
       "      <td>6.330131e+05</td>\n",
       "      <td>10377.454550</td>\n",
       "      <td>Virginia</td>\n",
       "      <td>2021-04-30</td>\n",
       "      <td>Guess</td>\n",
       "    </tr>\n",
       "    <tr>\n",
       "      <th>1496</th>\n",
       "      <td>1496</td>\n",
       "      <td>3.728919e+05</td>\n",
       "      <td>5302.800000</td>\n",
       "      <td>Washington</td>\n",
       "      <td>2021-04-30</td>\n",
       "      <td>Guess</td>\n",
       "    </tr>\n",
       "    <tr>\n",
       "      <th>1497</th>\n",
       "      <td>1497</td>\n",
       "      <td>1.455369e+05</td>\n",
       "      <td>2704.563636</td>\n",
       "      <td>West Virginia</td>\n",
       "      <td>2021-04-30</td>\n",
       "      <td>Guess</td>\n",
       "    </tr>\n",
       "    <tr>\n",
       "      <th>1498</th>\n",
       "      <td>1498</td>\n",
       "      <td>6.425669e+05</td>\n",
       "      <td>7364.000000</td>\n",
       "      <td>Wisconsin</td>\n",
       "      <td>2021-04-30</td>\n",
       "      <td>Guess</td>\n",
       "    </tr>\n",
       "    <tr>\n",
       "      <th>1499</th>\n",
       "      <td>1499</td>\n",
       "      <td>5.685325e+04</td>\n",
       "      <td>700.454545</td>\n",
       "      <td>Wyoming</td>\n",
       "      <td>2021-04-30</td>\n",
       "      <td>Guess</td>\n",
       "    </tr>\n",
       "  </tbody>\n",
       "</table>\n",
       "<p>1500 rows × 6 columns</p>\n",
       "</div>"
      ],
      "text/plain": [
       "        ID     Confirmed        Deaths Province_State       Date   Test\n",
       "0        0  5.159317e+05  10568.066670        Alabama 2021-04-01  Guess\n",
       "1        1  6.297940e+04    313.800000         Alaska 2021-04-01  Guess\n",
       "2        2  8.421711e+05  16998.800000        Arizona 2021-04-01  Guess\n",
       "3        3  3.306241e+05   5633.466667       Arkansas 2021-04-01  Guess\n",
       "4        4  3.671564e+06  59580.266670     California 2021-04-01  Guess\n",
       "...    ...           ...           ...            ...        ...    ...\n",
       "1495  1495  6.330131e+05  10377.454550       Virginia 2021-04-30  Guess\n",
       "1496  1496  3.728919e+05   5302.800000     Washington 2021-04-30  Guess\n",
       "1497  1497  1.455369e+05   2704.563636  West Virginia 2021-04-30  Guess\n",
       "1498  1498  6.425669e+05   7364.000000      Wisconsin 2021-04-30  Guess\n",
       "1499  1499  5.685325e+04    700.454545        Wyoming 2021-04-30  Guess\n",
       "\n",
       "[1500 rows x 6 columns]"
      ]
     },
     "execution_count": 18,
     "metadata": {},
     "output_type": "execute_result"
    }
   ],
   "source": [
    "#standardize datatype and label as our Guess/Submission data\n",
    "sub[\"Date\"]=pd.to_datetime(sub[\"Date\"])\n",
    "sub[\"Date\"]=sub[\"Date\"].dt.floor('d')\n",
    "sub[\"Test\"]=\"Guess\"\n",
    "sub"
   ]
  },
  {
   "cell_type": "code",
   "execution_count": 19,
   "metadata": {
    "scrolled": true
   },
   "outputs": [
    {
     "name": "stdout",
     "output_type": "stream",
     "text": [
      "['Alabama' 'Alaska' 'Arizona' 'Arkansas' 'California' 'Colorado'\n",
      " 'Connecticut' 'Delaware' 'Florida' 'Georgia' 'Hawaii' 'Idaho' 'Illinois'\n",
      " 'Indiana' 'Iowa' 'Kansas' 'Kentucky' 'Louisiana' 'Maine' 'Maryland'\n",
      " 'Massachusetts' 'Michigan' 'Minnesota' 'Mississippi' 'Missouri' 'Montana'\n",
      " 'Nebraska' 'Nevada' 'New Hampshire' 'New Jersey' 'New Mexico' 'New York'\n",
      " 'North Carolina' 'North Dakota' 'Ohio' 'Oklahoma' 'Oregon' 'Pennsylvania'\n",
      " 'Rhode Island' 'South Carolina' 'South Dakota' 'Tennessee' 'Texas' 'Utah'\n",
      " 'Vermont' 'Virginia' 'Washington' 'West Virginia' 'Wisconsin' 'Wyoming']\n"
     ]
    },
    {
     "data": {
      "text/html": [
       "<div>\n",
       "<style scoped>\n",
       "    .dataframe tbody tr th:only-of-type {\n",
       "        vertical-align: middle;\n",
       "    }\n",
       "\n",
       "    .dataframe tbody tr th {\n",
       "        vertical-align: top;\n",
       "    }\n",
       "\n",
       "    .dataframe thead th {\n",
       "        text-align: right;\n",
       "    }\n",
       "</style>\n",
       "<table border=\"1\" class=\"dataframe\">\n",
       "  <thead>\n",
       "    <tr style=\"text-align: right;\">\n",
       "      <th></th>\n",
       "      <th>Unnamed: 0</th>\n",
       "      <th>Province_State</th>\n",
       "      <th>Date</th>\n",
       "      <th>Confirmed</th>\n",
       "      <th>Deaths</th>\n",
       "      <th>Test</th>\n",
       "    </tr>\n",
       "  </thead>\n",
       "  <tbody>\n",
       "    <tr>\n",
       "      <th>0</th>\n",
       "      <td>0.0</td>\n",
       "      <td>Alabama</td>\n",
       "      <td>2021-01-12</td>\n",
       "      <td>4.078480e+05</td>\n",
       "      <td>5573.000000</td>\n",
       "      <td>Train</td>\n",
       "    </tr>\n",
       "    <tr>\n",
       "      <th>1</th>\n",
       "      <td>1.0</td>\n",
       "      <td>Alaska</td>\n",
       "      <td>2021-01-12</td>\n",
       "      <td>5.054400e+04</td>\n",
       "      <td>225.000000</td>\n",
       "      <td>Train</td>\n",
       "    </tr>\n",
       "    <tr>\n",
       "      <th>2</th>\n",
       "      <td>2.0</td>\n",
       "      <td>Arizona</td>\n",
       "      <td>2021-01-12</td>\n",
       "      <td>6.361000e+05</td>\n",
       "      <td>10482.000000</td>\n",
       "      <td>Train</td>\n",
       "    </tr>\n",
       "    <tr>\n",
       "      <th>3</th>\n",
       "      <td>3.0</td>\n",
       "      <td>Arkansas</td>\n",
       "      <td>2021-01-12</td>\n",
       "      <td>2.595530e+05</td>\n",
       "      <td>4121.000000</td>\n",
       "      <td>Train</td>\n",
       "    </tr>\n",
       "    <tr>\n",
       "      <th>4</th>\n",
       "      <td>4.0</td>\n",
       "      <td>California</td>\n",
       "      <td>2021-01-12</td>\n",
       "      <td>2.832085e+06</td>\n",
       "      <td>31345.000000</td>\n",
       "      <td>Train</td>\n",
       "    </tr>\n",
       "    <tr>\n",
       "      <th>...</th>\n",
       "      <td>...</td>\n",
       "      <td>...</td>\n",
       "      <td>...</td>\n",
       "      <td>...</td>\n",
       "      <td>...</td>\n",
       "      <td>...</td>\n",
       "    </tr>\n",
       "    <tr>\n",
       "      <th>1495</th>\n",
       "      <td>NaN</td>\n",
       "      <td>Virginia</td>\n",
       "      <td>2021-04-30</td>\n",
       "      <td>6.330131e+05</td>\n",
       "      <td>10377.454550</td>\n",
       "      <td>Guess</td>\n",
       "    </tr>\n",
       "    <tr>\n",
       "      <th>1496</th>\n",
       "      <td>NaN</td>\n",
       "      <td>Washington</td>\n",
       "      <td>2021-04-30</td>\n",
       "      <td>3.728919e+05</td>\n",
       "      <td>5302.800000</td>\n",
       "      <td>Guess</td>\n",
       "    </tr>\n",
       "    <tr>\n",
       "      <th>1497</th>\n",
       "      <td>NaN</td>\n",
       "      <td>West Virginia</td>\n",
       "      <td>2021-04-30</td>\n",
       "      <td>1.455369e+05</td>\n",
       "      <td>2704.563636</td>\n",
       "      <td>Guess</td>\n",
       "    </tr>\n",
       "    <tr>\n",
       "      <th>1498</th>\n",
       "      <td>NaN</td>\n",
       "      <td>Wisconsin</td>\n",
       "      <td>2021-04-30</td>\n",
       "      <td>6.425669e+05</td>\n",
       "      <td>7364.000000</td>\n",
       "      <td>Guess</td>\n",
       "    </tr>\n",
       "    <tr>\n",
       "      <th>1499</th>\n",
       "      <td>NaN</td>\n",
       "      <td>Wyoming</td>\n",
       "      <td>2021-04-30</td>\n",
       "      <td>5.685325e+04</td>\n",
       "      <td>700.454545</td>\n",
       "      <td>Guess</td>\n",
       "    </tr>\n",
       "  </tbody>\n",
       "</table>\n",
       "<p>5450 rows × 6 columns</p>\n",
       "</div>"
      ],
      "text/plain": [
       "      Unnamed: 0 Province_State       Date     Confirmed        Deaths   Test\n",
       "0            0.0        Alabama 2021-01-12  4.078480e+05   5573.000000  Train\n",
       "1            1.0         Alaska 2021-01-12  5.054400e+04    225.000000  Train\n",
       "2            2.0        Arizona 2021-01-12  6.361000e+05  10482.000000  Train\n",
       "3            3.0       Arkansas 2021-01-12  2.595530e+05   4121.000000  Train\n",
       "4            4.0     California 2021-01-12  2.832085e+06  31345.000000  Train\n",
       "...          ...            ...        ...           ...           ...    ...\n",
       "1495         NaN       Virginia 2021-04-30  6.330131e+05  10377.454550  Guess\n",
       "1496         NaN     Washington 2021-04-30  3.728919e+05   5302.800000  Guess\n",
       "1497         NaN  West Virginia 2021-04-30  1.455369e+05   2704.563636  Guess\n",
       "1498         NaN      Wisconsin 2021-04-30  6.425669e+05   7364.000000  Guess\n",
       "1499         NaN        Wyoming 2021-04-30  5.685325e+04    700.454545  Guess\n",
       "\n",
       "[5450 rows x 6 columns]"
      ]
     },
     "execution_count": 19,
     "metadata": {},
     "output_type": "execute_result"
    }
   ],
   "source": [
    "alla=traina.append(sub) #merging training data with submission data, removing unnecessary columns\n",
    "states=alla[\"Province_State\"].unique()\n",
    "alla=alla.drop(columns=['Recovered', 'Active', 'Incident_Rate', 'Total_Test_Results',\n",
    "       'Case_Fatality_Ratio', 'Testing_Rate', 'ID'])\n",
    "print(alla[\"Province_State\"].unique())\n",
    "alla\n",
    "#We now got to filter by each state, there was probably an easier way to do this, but I just manually did it"
   ]
  },
  {
   "cell_type": "code",
   "execution_count": 20,
   "metadata": {},
   "outputs": [],
   "source": [
    "Wyoming=alla[alla[\"Province_State\"]==\"Wyoming\"]\n"
   ]
  },
  {
   "cell_type": "code",
   "execution_count": 21,
   "metadata": {},
   "outputs": [],
   "source": [
    "Wisconsin=alla[alla[\"Province_State\"]==\"Wisconsin\"]\n"
   ]
  },
  {
   "cell_type": "code",
   "execution_count": 22,
   "metadata": {},
   "outputs": [],
   "source": [
    "West_Virginia=alla[alla[\"Province_State\"]==\"West Virginia\"]\n"
   ]
  },
  {
   "cell_type": "code",
   "execution_count": 23,
   "metadata": {},
   "outputs": [],
   "source": [
    "Washington=alla[alla[\"Province_State\"]==\"Washington\"]\n"
   ]
  },
  {
   "cell_type": "code",
   "execution_count": 24,
   "metadata": {},
   "outputs": [],
   "source": [
    "Virginia=alla[alla[\"Province_State\"]==\"Virginia\"]\n"
   ]
  },
  {
   "cell_type": "code",
   "execution_count": 25,
   "metadata": {},
   "outputs": [],
   "source": [
    "Vermont=alla[alla[\"Province_State\"]==\"Vermont\"]\n"
   ]
  },
  {
   "cell_type": "code",
   "execution_count": 26,
   "metadata": {},
   "outputs": [],
   "source": [
    "Utah=alla[alla[\"Province_State\"]==\"Utah\"]\n"
   ]
  },
  {
   "cell_type": "code",
   "execution_count": 27,
   "metadata": {},
   "outputs": [],
   "source": [
    "Texas=alla[alla[\"Province_State\"]==\"Texas\"]\n"
   ]
  },
  {
   "cell_type": "code",
   "execution_count": 28,
   "metadata": {},
   "outputs": [],
   "source": [
    "Tennessee=alla[alla[\"Province_State\"]==\"Tennessee\"]\n"
   ]
  },
  {
   "cell_type": "code",
   "execution_count": 29,
   "metadata": {},
   "outputs": [],
   "source": [
    "South_Dakota=alla[alla[\"Province_State\"]==\"South Dakota\"]\n"
   ]
  },
  {
   "cell_type": "code",
   "execution_count": 30,
   "metadata": {},
   "outputs": [],
   "source": [
    "South_Carolina=alla[alla[\"Province_State\"]==\"South Carolina\"]\n"
   ]
  },
  {
   "cell_type": "code",
   "execution_count": 31,
   "metadata": {},
   "outputs": [],
   "source": [
    "Rhode_Island=alla[alla[\"Province_State\"]==\"Rhode Island\"]\n"
   ]
  },
  {
   "cell_type": "code",
   "execution_count": 32,
   "metadata": {},
   "outputs": [],
   "source": [
    "Pennsylvania=alla[alla[\"Province_State\"]==\"Pennsylvania\"]\n"
   ]
  },
  {
   "cell_type": "code",
   "execution_count": 33,
   "metadata": {},
   "outputs": [],
   "source": [
    "Oregon=alla[alla[\"Province_State\"]==\"Oregon\"]\n"
   ]
  },
  {
   "cell_type": "code",
   "execution_count": 34,
   "metadata": {},
   "outputs": [],
   "source": [
    "Oklahoma=alla[alla[\"Province_State\"]==\"Oklahoma\"]\n"
   ]
  },
  {
   "cell_type": "code",
   "execution_count": 35,
   "metadata": {},
   "outputs": [],
   "source": [
    "Ohio=alla[alla[\"Province_State\"]==\"Ohio\"]\n"
   ]
  },
  {
   "cell_type": "code",
   "execution_count": 36,
   "metadata": {},
   "outputs": [],
   "source": [
    "North_Dakota=alla[alla[\"Province_State\"]==\"North Dakota\"]\n"
   ]
  },
  {
   "cell_type": "code",
   "execution_count": 37,
   "metadata": {},
   "outputs": [],
   "source": [
    "North_Carolina=alla[alla[\"Province_State\"]==\"North Carolina\"]\n"
   ]
  },
  {
   "cell_type": "code",
   "execution_count": 38,
   "metadata": {},
   "outputs": [],
   "source": [
    "New_York=alla[alla[\"Province_State\"]==\"New York\"]\n"
   ]
  },
  {
   "cell_type": "code",
   "execution_count": 39,
   "metadata": {},
   "outputs": [],
   "source": [
    "New_Mexico=alla[alla[\"Province_State\"]==\"New Mexico\"]\n"
   ]
  },
  {
   "cell_type": "code",
   "execution_count": 40,
   "metadata": {},
   "outputs": [],
   "source": [
    "New_Jersey=alla[alla[\"Province_State\"]==\"New Jersey\"]\n"
   ]
  },
  {
   "cell_type": "code",
   "execution_count": 41,
   "metadata": {},
   "outputs": [],
   "source": [
    "New_Hampshire=alla[alla[\"Province_State\"]==\"New Hampshire\"]\n"
   ]
  },
  {
   "cell_type": "code",
   "execution_count": 42,
   "metadata": {},
   "outputs": [],
   "source": [
    "Nevada=alla[alla[\"Province_State\"]==\"Nevada\"]\n"
   ]
  },
  {
   "cell_type": "code",
   "execution_count": 43,
   "metadata": {},
   "outputs": [],
   "source": [
    "Nebraska=alla[alla[\"Province_State\"]==\"Nebraska\"]\n"
   ]
  },
  {
   "cell_type": "code",
   "execution_count": 44,
   "metadata": {},
   "outputs": [],
   "source": [
    "Montana=alla[alla[\"Province_State\"]==\"Montana\"]\n"
   ]
  },
  {
   "cell_type": "code",
   "execution_count": 45,
   "metadata": {},
   "outputs": [],
   "source": [
    "Missouri=alla[alla[\"Province_State\"]==\"Missouri\"]\n"
   ]
  },
  {
   "cell_type": "code",
   "execution_count": 46,
   "metadata": {},
   "outputs": [],
   "source": [
    "Mississippi=alla[alla[\"Province_State\"]==\"Mississippi\"]\n"
   ]
  },
  {
   "cell_type": "code",
   "execution_count": 47,
   "metadata": {},
   "outputs": [],
   "source": [
    "Minnesota=alla[alla[\"Province_State\"]==\"Minnesota\"]\n"
   ]
  },
  {
   "cell_type": "code",
   "execution_count": 48,
   "metadata": {},
   "outputs": [],
   "source": [
    "Michigan=alla[alla[\"Province_State\"]==\"Michigan\"]\n"
   ]
  },
  {
   "cell_type": "code",
   "execution_count": 49,
   "metadata": {},
   "outputs": [],
   "source": [
    "Massachusetts=alla[alla[\"Province_State\"]==\"Massachusetts\"]\n"
   ]
  },
  {
   "cell_type": "code",
   "execution_count": 50,
   "metadata": {},
   "outputs": [],
   "source": [
    "Maryland=alla[alla[\"Province_State\"]==\"Maryland\"]\n"
   ]
  },
  {
   "cell_type": "code",
   "execution_count": 51,
   "metadata": {},
   "outputs": [],
   "source": [
    "Maine=alla[alla[\"Province_State\"]==\"Maine\"]\n"
   ]
  },
  {
   "cell_type": "code",
   "execution_count": 52,
   "metadata": {},
   "outputs": [],
   "source": [
    "Louisiana=alla[alla[\"Province_State\"]==\"Louisiana\"]\n"
   ]
  },
  {
   "cell_type": "code",
   "execution_count": 53,
   "metadata": {},
   "outputs": [],
   "source": [
    "Kentucky=alla[alla[\"Province_State\"]==\"Kentucky\"]\n"
   ]
  },
  {
   "cell_type": "code",
   "execution_count": 54,
   "metadata": {},
   "outputs": [],
   "source": [
    "Kansas=alla[alla[\"Province_State\"]==\"Kansas\"]\n"
   ]
  },
  {
   "cell_type": "code",
   "execution_count": 55,
   "metadata": {},
   "outputs": [],
   "source": [
    "Iowa=alla[alla[\"Province_State\"]==\"Iowa\"]\n"
   ]
  },
  {
   "cell_type": "code",
   "execution_count": 56,
   "metadata": {},
   "outputs": [],
   "source": [
    "Indiana=alla[alla[\"Province_State\"]==\"Indiana\"]\n"
   ]
  },
  {
   "cell_type": "code",
   "execution_count": 57,
   "metadata": {},
   "outputs": [],
   "source": [
    "Illinois=alla[alla[\"Province_State\"]==\"Illinois\"]\n"
   ]
  },
  {
   "cell_type": "code",
   "execution_count": 58,
   "metadata": {},
   "outputs": [],
   "source": [
    "Idaho=alla[alla[\"Province_State\"]==\"Idaho\"]\n"
   ]
  },
  {
   "cell_type": "code",
   "execution_count": 59,
   "metadata": {},
   "outputs": [],
   "source": [
    "Hawaii=alla[alla[\"Province_State\"]==\"Hawaii\"]\n"
   ]
  },
  {
   "cell_type": "code",
   "execution_count": 60,
   "metadata": {
    "scrolled": true
   },
   "outputs": [],
   "source": [
    "Georgia=alla[alla[\"Province_State\"]==\"Georgia\"]\n"
   ]
  },
  {
   "cell_type": "code",
   "execution_count": 61,
   "metadata": {},
   "outputs": [],
   "source": [
    "Florida=alla[alla[\"Province_State\"]==\"Florida\"]\n"
   ]
  },
  {
   "cell_type": "code",
   "execution_count": 62,
   "metadata": {},
   "outputs": [],
   "source": [
    "Delaware=alla[alla[\"Province_State\"]==\"Delaware\"]\n"
   ]
  },
  {
   "cell_type": "code",
   "execution_count": 63,
   "metadata": {
    "scrolled": true
   },
   "outputs": [],
   "source": [
    "Connecticut=alla[alla[\"Province_State\"]==\"Connecticut\"]\n"
   ]
  },
  {
   "cell_type": "code",
   "execution_count": 64,
   "metadata": {},
   "outputs": [],
   "source": [
    "Colorado=alla[alla[\"Province_State\"]==\"Colorado\"]\n"
   ]
  },
  {
   "cell_type": "code",
   "execution_count": 65,
   "metadata": {},
   "outputs": [],
   "source": [
    "California=alla[alla[\"Province_State\"]==\"California\"]\n"
   ]
  },
  {
   "cell_type": "code",
   "execution_count": 66,
   "metadata": {},
   "outputs": [],
   "source": [
    "Arkansas=alla[alla[\"Province_State\"]==\"Arkansas\"]\n"
   ]
  },
  {
   "cell_type": "code",
   "execution_count": 67,
   "metadata": {},
   "outputs": [],
   "source": [
    "Arizona=alla[alla[\"Province_State\"]==\"Arizona\"]\n"
   ]
  },
  {
   "cell_type": "code",
   "execution_count": 68,
   "metadata": {
    "scrolled": false
   },
   "outputs": [],
   "source": [
    "Alaska=alla[alla[\"Province_State\"]==\"Alaska\"]\n"
   ]
  },
  {
   "cell_type": "code",
   "execution_count": 69,
   "metadata": {},
   "outputs": [
    {
     "data": {
      "text/html": [
       "<div>\n",
       "<style scoped>\n",
       "    .dataframe tbody tr th:only-of-type {\n",
       "        vertical-align: middle;\n",
       "    }\n",
       "\n",
       "    .dataframe tbody tr th {\n",
       "        vertical-align: top;\n",
       "    }\n",
       "\n",
       "    .dataframe thead th {\n",
       "        text-align: right;\n",
       "    }\n",
       "</style>\n",
       "<table border=\"1\" class=\"dataframe\">\n",
       "  <thead>\n",
       "    <tr style=\"text-align: right;\">\n",
       "      <th></th>\n",
       "      <th>Unnamed: 0</th>\n",
       "      <th>Province_State</th>\n",
       "      <th>Date</th>\n",
       "      <th>Confirmed</th>\n",
       "      <th>Deaths</th>\n",
       "      <th>Test</th>\n",
       "    </tr>\n",
       "  </thead>\n",
       "  <tbody>\n",
       "    <tr>\n",
       "      <th>0</th>\n",
       "      <td>0.0</td>\n",
       "      <td>Alabama</td>\n",
       "      <td>2021-01-12</td>\n",
       "      <td>407848.0000</td>\n",
       "      <td>5573.00000</td>\n",
       "      <td>Train</td>\n",
       "    </tr>\n",
       "    <tr>\n",
       "      <th>50</th>\n",
       "      <td>50.0</td>\n",
       "      <td>Alabama</td>\n",
       "      <td>2021-01-13</td>\n",
       "      <td>410995.0000</td>\n",
       "      <td>5760.00000</td>\n",
       "      <td>Train</td>\n",
       "    </tr>\n",
       "    <tr>\n",
       "      <th>100</th>\n",
       "      <td>100.0</td>\n",
       "      <td>Alabama</td>\n",
       "      <td>2021-01-14</td>\n",
       "      <td>414583.0000</td>\n",
       "      <td>5945.00000</td>\n",
       "      <td>Train</td>\n",
       "    </tr>\n",
       "    <tr>\n",
       "      <th>150</th>\n",
       "      <td>150.0</td>\n",
       "      <td>Alabama</td>\n",
       "      <td>2021-01-15</td>\n",
       "      <td>417528.0000</td>\n",
       "      <td>6030.00000</td>\n",
       "      <td>Train</td>\n",
       "    </tr>\n",
       "    <tr>\n",
       "      <th>200</th>\n",
       "      <td>200.0</td>\n",
       "      <td>Alabama</td>\n",
       "      <td>2021-01-16</td>\n",
       "      <td>420681.0000</td>\n",
       "      <td>6119.00000</td>\n",
       "      <td>Train</td>\n",
       "    </tr>\n",
       "    <tr>\n",
       "      <th>...</th>\n",
       "      <td>...</td>\n",
       "      <td>...</td>\n",
       "      <td>...</td>\n",
       "      <td>...</td>\n",
       "      <td>...</td>\n",
       "      <td>...</td>\n",
       "    </tr>\n",
       "    <tr>\n",
       "      <th>1250</th>\n",
       "      <td>NaN</td>\n",
       "      <td>Alabama</td>\n",
       "      <td>2021-04-25</td>\n",
       "      <td>517594.9152</td>\n",
       "      <td>10613.27879</td>\n",
       "      <td>Guess</td>\n",
       "    </tr>\n",
       "    <tr>\n",
       "      <th>1300</th>\n",
       "      <td>NaN</td>\n",
       "      <td>Alabama</td>\n",
       "      <td>2021-04-26</td>\n",
       "      <td>518010.7273</td>\n",
       "      <td>10624.58182</td>\n",
       "      <td>Guess</td>\n",
       "    </tr>\n",
       "    <tr>\n",
       "      <th>1350</th>\n",
       "      <td>NaN</td>\n",
       "      <td>Alabama</td>\n",
       "      <td>2021-04-27</td>\n",
       "      <td>518426.5394</td>\n",
       "      <td>10635.88485</td>\n",
       "      <td>Guess</td>\n",
       "    </tr>\n",
       "    <tr>\n",
       "      <th>1400</th>\n",
       "      <td>NaN</td>\n",
       "      <td>Alabama</td>\n",
       "      <td>2021-04-28</td>\n",
       "      <td>518842.3515</td>\n",
       "      <td>10647.18788</td>\n",
       "      <td>Guess</td>\n",
       "    </tr>\n",
       "    <tr>\n",
       "      <th>1450</th>\n",
       "      <td>NaN</td>\n",
       "      <td>Alabama</td>\n",
       "      <td>2021-04-29</td>\n",
       "      <td>519258.1636</td>\n",
       "      <td>10658.49091</td>\n",
       "      <td>Guess</td>\n",
       "    </tr>\n",
       "  </tbody>\n",
       "</table>\n",
       "<p>109 rows × 6 columns</p>\n",
       "</div>"
      ],
      "text/plain": [
       "      Unnamed: 0 Province_State       Date    Confirmed       Deaths   Test\n",
       "0            0.0        Alabama 2021-01-12  407848.0000   5573.00000  Train\n",
       "50          50.0        Alabama 2021-01-13  410995.0000   5760.00000  Train\n",
       "100        100.0        Alabama 2021-01-14  414583.0000   5945.00000  Train\n",
       "150        150.0        Alabama 2021-01-15  417528.0000   6030.00000  Train\n",
       "200        200.0        Alabama 2021-01-16  420681.0000   6119.00000  Train\n",
       "...          ...            ...        ...          ...          ...    ...\n",
       "1250         NaN        Alabama 2021-04-25  517594.9152  10613.27879  Guess\n",
       "1300         NaN        Alabama 2021-04-26  518010.7273  10624.58182  Guess\n",
       "1350         NaN        Alabama 2021-04-27  518426.5394  10635.88485  Guess\n",
       "1400         NaN        Alabama 2021-04-28  518842.3515  10647.18788  Guess\n",
       "1450         NaN        Alabama 2021-04-29  519258.1636  10658.49091  Guess\n",
       "\n",
       "[109 rows x 6 columns]"
      ]
     },
     "execution_count": 69,
     "metadata": {},
     "output_type": "execute_result"
    }
   ],
   "source": [
    "Alabama=alla[alla[\"Province_State\"]==\"Alabama\"]\n",
    "Alabama"
   ]
  },
  {
   "cell_type": "code",
   "execution_count": null,
   "metadata": {
    "scrolled": true
   },
   "outputs": [],
   "source": []
  },
  {
   "cell_type": "markdown",
   "metadata": {},
   "source": [
    "Graphs!!!\n",
    "-\n",
    "-\n",
    "-\n",
    "\n"
   ]
  },
  {
   "cell_type": "code",
   "execution_count": 70,
   "metadata": {
    "scrolled": true
   },
   "outputs": [
    {
     "data": {
      "text/plain": [
       "Text(0.5, 1.0, 'Alabama')"
      ]
     },
     "execution_count": 70,
     "metadata": {},
     "output_type": "execute_result"
    },
    {
     "data": {
      "image/png": "[encoded data removed]",
      "text/plain": [
       "<Figure size 432x288 with 1 Axes>"
      ]
     },
     "metadata": {
      "needs_background": "light"
     },
     "output_type": "display_data"
    }
   ],
   "source": [
    "sns.lineplot(data=Alabama,\n",
    "            x=\"Date\",\n",
    "            y=\"Confirmed\",\n",
    "            hue=\"Test\")\n",
    "plt.title('Alabama', fontsize=15)"
   ]
  },
  {
   "cell_type": "code",
   "execution_count": 71,
   "metadata": {},
   "outputs": [
    {
     "data": {
      "text/plain": [
       "Text(0.5, 1.0, 'Alabama, Deaths')"
      ]
     },
     "execution_count": 71,
     "metadata": {},
     "output_type": "execute_result"
    },
    {
     "data": {
      "image/png": "[encoded data removed]",
      "text/plain": [
       "<Figure size 432x288 with 1 Axes>"
      ]
     },
     "metadata": {
      "needs_background": "light"
     },
     "output_type": "display_data"
    }
   ],
   "source": [
    "sns.lineplot(data=Alabama,\n",
    "            x=\"Date\",\n",
    "            y=\"Deaths\",\n",
    "            hue=\"Test\")\n",
    "plt.title('Alabama, Deaths', fontsize=15)"
   ]
  },
  {
   "cell_type": "code",
   "execution_count": 72,
   "metadata": {
    "scrolled": true
   },
   "outputs": [
    {
     "data": {
      "text/plain": [
       "Text(0.5, 1.0, 'Alaska, Confirmed')"
      ]
     },
     "execution_count": 72,
     "metadata": {},
     "output_type": "execute_result"
    },
    {
     "data": {
      "image/png": "[encoded data removed]",
      "text/plain": [
       "<Figure size 432x288 with 1 Axes>"
      ]
     },
     "metadata": {
      "needs_background": "light"
     },
     "output_type": "display_data"
    }
   ],
   "source": [
    "sns.lineplot(data=Alaska,\n",
    "            x=\"Date\",\n",
    "            y=\"Confirmed\",\n",
    "            hue=\"Test\")\n",
    "plt.title('Alaska, Confirmed', fontsize=15)"
   ]
  },
  {
   "cell_type": "code",
   "execution_count": 73,
   "metadata": {
    "scrolled": true
   },
   "outputs": [
    {
     "data": {
      "text/plain": [
       "Text(0.5, 1.0, 'Alaska, Deaths')"
      ]
     },
     "execution_count": 73,
     "metadata": {},
     "output_type": "execute_result"
    },
    {
     "data": {
      "image/png": "[encoded data removed]",
      "text/plain": [
       "<Figure size 432x288 with 1 Axes>"
      ]
     },
     "metadata": {
      "needs_background": "light"
     },
     "output_type": "display_data"
    }
   ],
   "source": [
    "sns.lineplot(data=Alaska,\n",
    "            x=\"Date\",\n",
    "            y=\"Deaths\",\n",
    "            hue=\"Test\")\n",
    "plt.title('Alaska, Deaths', fontsize=15)"
   ]
  },
  {
   "cell_type": "code",
   "execution_count": 74,
   "metadata": {},
   "outputs": [
    {
     "data": {
      "text/plain": [
       "Text(0.5, 1.0, 'Arizona, Confirmed')"
      ]
     },
     "execution_count": 74,
     "metadata": {},
     "output_type": "execute_result"
    },
    {
     "data": {
      "image/png": "[encoded data removed]",
      "text/plain": [
       "<Figure size 432x288 with 1 Axes>"
      ]
     },
     "metadata": {
      "needs_background": "light"
     },
     "output_type": "display_data"
    }
   ],
   "source": [
    "sns.lineplot(data=Arizona,\n",
    "            x=\"Date\",\n",
    "            y=\"Confirmed\",\n",
    "            hue=\"Test\")\n",
    "plt.title('Arizona, Confirmed', fontsize=15)"
   ]
  },
  {
   "cell_type": "code",
   "execution_count": 75,
   "metadata": {},
   "outputs": [
    {
     "data": {
      "text/plain": [
       "Text(0.5, 1.0, 'Arizona, Deaths')"
      ]
     },
     "execution_count": 75,
     "metadata": {},
     "output_type": "execute_result"
    },
    {
     "data": {
      "image/png": "[encoded data removed]",
      "text/plain": [
       "<Figure size 432x288 with 1 Axes>"
      ]
     },
     "metadata": {
      "needs_background": "light"
     },
     "output_type": "display_data"
    }
   ],
   "source": [
    "sns.lineplot(data=Arizona,\n",
    "            x=\"Date\",\n",
    "            y=\"Deaths\",\n",
    "            hue=\"Test\")\n",
    "plt.title('Arizona, Deaths', fontsize=15)"
   ]
  },
  {
   "cell_type": "code",
   "execution_count": 76,
   "metadata": {},
   "outputs": [
    {
     "data": {
      "text/plain": [
       "Text(0.5, 1.0, 'Arkansas, Confirmed')"
      ]
     },
     "execution_count": 76,
     "metadata": {},
     "output_type": "execute_result"
    },
    {
     "data": {
      "image/png": "[encoded data removed]",
      "text/plain": [
       "<Figure size 432x288 with 1 Axes>"
      ]
     },
     "metadata": {
      "needs_background": "light"
     },
     "output_type": "display_data"
    }
   ],
   "source": [
    "sns.lineplot(data=Arkansas,\n",
    "            x=\"Date\",\n",
    "            y=\"Confirmed\",\n",
    "            hue=\"Test\")\n",
    "plt.title('Arkansas, Confirmed', fontsize=15)"
   ]
  },
  {
   "cell_type": "code",
   "execution_count": 77,
   "metadata": {},
   "outputs": [
    {
     "data": {
      "text/plain": [
       "Text(0.5, 1.0, 'Arkansas, Deaths')"
      ]
     },
     "execution_count": 77,
     "metadata": {},
     "output_type": "execute_result"
    },
    {
     "data": {
      "image/png": "[encoded data removed]",
      "text/plain": [
       "<Figure size 432x288 with 1 Axes>"
      ]
     },
     "metadata": {
      "needs_background": "light"
     },
     "output_type": "display_data"
    }
   ],
   "source": [
    "sns.lineplot(data=Arkansas,\n",
    "            x=\"Date\",\n",
    "            y=\"Deaths\",\n",
    "            hue=\"Test\")\n",
    "plt.title('Arkansas, Deaths', fontsize=15)"
   ]
  },
  {
   "cell_type": "code",
   "execution_count": 78,
   "metadata": {},
   "outputs": [
    {
     "data": {
      "text/plain": [
       "Text(0.5, 1.0, 'Arizona, Deaths')"
      ]
     },
     "execution_count": 78,
     "metadata": {},
     "output_type": "execute_result"
    },
    {
     "data": {
      "image/png": "[encoded data removed]",
      "text/plain": [
       "<Figure size 432x288 with 1 Axes>"
      ]
     },
     "metadata": {
      "needs_background": "light"
     },
     "output_type": "display_data"
    }
   ],
   "source": [
    "sns.lineplot(data=Arizona,\n",
    "            x=\"Date\",\n",
    "            y=\"Deaths\",\n",
    "            hue=\"Test\")\n",
    "plt.title('Arizona, Deaths', fontsize=15)"
   ]
  },
  {
   "cell_type": "code",
   "execution_count": 79,
   "metadata": {
    "scrolled": false
   },
   "outputs": [
    {
     "data": {
      "text/plain": [
       "Text(0.5, 1.0, 'California, Confirmed')"
      ]
     },
     "execution_count": 79,
     "metadata": {},
     "output_type": "execute_result"
    },
    {
     "data": {
      "image/png": "[encoded data removed]",
      "text/plain": [
       "<Figure size 432x288 with 1 Axes>"
      ]
     },
     "metadata": {
      "needs_background": "light"
     },
     "output_type": "display_data"
    }
   ],
   "source": [
    "sns.lineplot(data=California,\n",
    "            x=\"Date\",\n",
    "            y=\"Confirmed\",\n",
    "            hue=\"Test\")\n",
    "plt.title('California, Confirmed', fontsize=15)"
   ]
  },
  {
   "cell_type": "markdown",
   "metadata": {},
   "source": [
    "Exhibiting really weird patterns."
   ]
  },
  {
   "cell_type": "code",
   "execution_count": 80,
   "metadata": {},
   "outputs": [
    {
     "data": {
      "text/plain": [
       "Text(0.5, 1.0, 'California, Deaths')"
      ]
     },
     "execution_count": 80,
     "metadata": {},
     "output_type": "execute_result"
    },
    {
     "data": {
      "image/png": "[encoded data removed]",
      "text/plain": [
       "<Figure size 432x288 with 1 Axes>"
      ]
     },
     "metadata": {
      "needs_background": "light"
     },
     "output_type": "display_data"
    }
   ],
   "source": [
    "sns.lineplot(data=California,\n",
    "            x=\"Date\",\n",
    "            y=\"Deaths\",\n",
    "            hue=\"Test\")\n",
    "plt.title('California, Deaths', fontsize\n",
    "          =15)"
   ]
  },
  {
   "cell_type": "code",
   "execution_count": 81,
   "metadata": {
    "scrolled": false
   },
   "outputs": [
    {
     "data": {
      "text/plain": [
       "Text(0.5, 1.0, 'Georgia, Confirmed')"
      ]
     },
     "execution_count": 81,
     "metadata": {},
     "output_type": "execute_result"
    },
    {
     "data": {
      "image/png": "[encoded data removed]",
      "text/plain": [
       "<Figure size 432x288 with 1 Axes>"
      ]
     },
     "metadata": {
      "needs_background": "light"
     },
     "output_type": "display_data"
    }
   ],
   "source": [
    "sns.lineplot(data=Georgia,\n",
    "            x=\"Date\",\n",
    "            y=\"Confirmed\",\n",
    "            hue=\"Test\")\n",
    "plt.title('Georgia, Confirmed', fontsize=15)"
   ]
  },
  {
   "cell_type": "code",
   "execution_count": 82,
   "metadata": {
    "scrolled": true
   },
   "outputs": [
    {
     "data": {
      "text/plain": [
       "Text(0.5, 1.0, 'Georgia, Deaths')"
      ]
     },
     "execution_count": 82,
     "metadata": {},
     "output_type": "execute_result"
    },
    {
     "data": {
      "image/png": "[encoded data removed]",
      "text/plain": [
       "<Figure size 432x288 with 1 Axes>"
      ]
     },
     "metadata": {
      "needs_background": "light"
     },
     "output_type": "display_data"
    }
   ],
   "source": [
    "sns.lineplot(data=Georgia,\n",
    "            x=\"Date\",\n",
    "            y=\"Deaths\",\n",
    "            hue=\"Test\")\n",
    "plt.title('Georgia, Deaths', fontsize=15)"
   ]
  },
  {
   "cell_type": "markdown",
   "metadata": {},
   "source": [
    "You can create the graph for a given state by following the examples above.\n",
    "\n",
    "This shows the death estimates are fairly accurate, but there are weird spikes with every estimate."
   ]
  },
  {
   "cell_type": "code",
   "execution_count": null,
   "metadata": {},
   "outputs": [],
   "source": []
  },
  {
   "cell_type": "code",
   "execution_count": null,
   "metadata": {},
   "outputs": [],
   "source": []
  }
 ],
 "metadata": {
  "kernelspec": {
   "display_name": "Python 3",
   "language": "python",
   "name": "python3"
  },
  "language_info": {
   "codemirror_mode": {
    "name": "ipython",
    "version": 3
   },
   "file_extension": ".py",
   "mimetype": "text/x-python",
   "name": "python",
   "nbconvert_exporter": "python",
   "pygments_lexer": "ipython3",
   "version": "3.8.6"
  }
 },
 "nbformat": 4,
 "nbformat_minor": 4
}
